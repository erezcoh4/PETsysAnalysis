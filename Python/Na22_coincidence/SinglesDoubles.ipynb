{
 "cells": [
  {
   "cell_type": "code",
   "execution_count": 2,
   "metadata": {},
   "outputs": [],
   "source": [
    "import sys; sys.path.insert(0, '/Users/erezcohen/Desktop/PETsys/Software/PETsysAnalysis/Python'); \n",
    "from PETsys_analysis_tools import *;\n",
    "from scipy.stats import gaussian_kde\n",
    "\n",
    "%config InlineBackend.figure_format = 'retina'"
   ]
  },
  {
   "cell_type": "markdown",
   "metadata": {},
   "source": [
    "# rate of singles and doubles with a $^{22}$Na source coupled to two small LYSO scintillators\n",
    "\n",
    "Each of the scintillators coupled to one KETEK 3 mm SiPM,\n",
    "using a $^{22}$Na source of 0.8 $\\mu$Ci activity.\n",
    "\n",
    "On the TOFPET2 host machine, the data for this directory is under\n",
    "\n",
    "/BoxSi_proto_1_3Dec2020/\n",
    "\n",
    "Using the measurememt *Na22_ScintSourceDistance_10mm_2000sec*,\n",
    "\n",
    "singles:      524357 hits\n",
    "\n",
    "coincidence:  12924  events\n",
    "\n",
    "groups:       524357 hits\n"
   ]
  },
  {
   "cell_type": "code",
   "execution_count": 9,
   "metadata": {},
   "outputs": [
    {
     "name": "stdout",
     "output_type": "stream",
     "text": [
      "rate of s,d: 262.1785 6.462 Hz\n",
      "d/s rate ratio: 2.5 %\n"
     ]
    }
   ],
   "source": [
    "dT = 2000 # sec\n",
    "Ns = 524357.\n",
    "Nd = 12924.\n",
    "s,d = Ns/dT, Nd/dT\n",
    "print 'rate of s,d:',s,d,'Hz'\n",
    "print 'd/s rate ratio: %.1f'%(100*d/s),'%'"
   ]
  },
  {
   "cell_type": "code",
   "execution_count": null,
   "metadata": {},
   "outputs": [],
   "source": []
  }
 ],
 "metadata": {
  "kernelspec": {
   "display_name": "Python 3",
   "language": "python",
   "name": "python3"
  },
  "language_info": {
   "codemirror_mode": {
    "name": "ipython",
    "version": 2
   },
   "file_extension": ".py",
   "mimetype": "text/x-python",
   "name": "python",
   "nbconvert_exporter": "python",
   "pygments_lexer": "ipython2",
   "version": "2.7.17"
  }
 },
 "nbformat": 4,
 "nbformat_minor": 2
}

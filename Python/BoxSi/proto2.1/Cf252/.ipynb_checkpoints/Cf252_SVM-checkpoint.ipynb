{
 "cells": [
  {
   "cell_type": "markdown",
   "metadata": {},
   "source": [
    "# extraction of the s,d,t rates from $^{252}$Cf measurements using the SVM method\n",
    "$^{252}$Cf source of about 74 nCi activity\n",
    "\n",
    "Mar-11,2021\n",
    "\n",
    "events collected using \n",
    "/Users/erezcohen/Desktop/PETsys/Software/PETsysAnalysis/CPP/BoxSi_proto2.1_event_collector"
   ]
  },
  {
   "cell_type": "code",
   "execution_count": 1,
   "metadata": {},
   "outputs": [],
   "source": [
    "import sys; \n",
    "sys.path.insert(0, '/Users/erezcohen/Desktop/PETsys/Software/PETsysAnalysis/Python'); \n",
    "from PETsys_analysis_tools import *;\n",
    "sys.path.insert(0, '/Users/erezcohen/Desktop/PETsys/Software/PETsysAnalysis/Python/BoxSi'); \n",
    "from proto21_tools import *;\n",
    "%config InlineBackend.figure_format = 'retina'\n",
    "import scipy as sp"
   ]
  },
  {
   "cell_type": "code",
   "execution_count": 2,
   "metadata": {},
   "outputs": [],
   "source": [
    "data_path = '/Users/erezcohen/Desktop/data/PETsys/BoxSi_proto2.1/SingleAnalyzer/'"
   ]
  },
  {
   "cell_type": "markdown",
   "metadata": {},
   "source": [
    "## (1) load data"
   ]
  },
  {
   "cell_type": "code",
   "execution_count": 3,
   "metadata": {},
   "outputs": [],
   "source": [
    "dT = 1000; # sec"
   ]
  },
  {
   "cell_type": "code",
   "execution_count": 9,
   "metadata": {},
   "outputs": [
    {
     "name": "stdout",
     "output_type": "stream",
     "text": [
      "128981 events\n",
      "4.9% events of  of det. 12\n",
      "4.6% events of  of det. 3\n",
      "48.5% events of  of det. 6\n",
      "42.0% events of  of det. 9\n",
      "0.0% events of  of det. 0\n"
     ]
    }
   ],
   "source": [
    "events = pd.read_csv(data_path + 'Cf252_%dsec_events.csv'%dT,)\n",
    "KETEK_events = events[(events['detector']==3) | (events['detector']==12)]\n",
    "SensL_events = events[(events['detector']==6) | (events['detector']==9)]\n",
    "# statistics\n",
    "print('%d events'%len(events))\n",
    "for detector in [12,3,6,9,0]:\n",
    "    print ('%.1f'%(float(100.*len(events[events.detector==detector]))/len(events))\n",
    "           +'%'+' events of  of det. %d'%detector)"
   ]
  },
  {
   "cell_type": "markdown",
   "metadata": {},
   "source": [
    "## (2) subdivide pulse train to time intervals of 20 ns"
   ]
  },
  {
   "cell_type": "code",
   "execution_count": 10,
   "metadata": {},
   "outputs": [
    {
     "data": {
      "text/plain": [
       "1000869.3345700001"
      ]
     },
     "execution_count": 10,
     "metadata": {},
     "output_type": "execute_result"
    }
   ],
   "source": [
    "t = np.array(events['time[ms]'])\n",
    "np.max(t)"
   ]
  },
  {
   "cell_type": "code",
   "execution_count": 11,
   "metadata": {},
   "outputs": [
    {
     "name": "stdout",
     "output_type": "stream",
     "text": [
      "1000000 time bins:  0.0  ms, 1.0  ms, 2.0  ms...\n"
     ]
    }
   ],
   "source": [
    "# window = 20.e-6 # 20 ns\n",
    "# window = 1.e3 # 1 sec \n",
    "window = 1. # 1 ms sec \n",
    "time_bins = np.arange(0,dT*1e3,window)\n",
    "print len(time_bins),'time bins: ',time_bins[0],' ms,',time_bins[1],' ms,',time_bins[2],' ms...'"
   ]
  },
  {
   "cell_type": "code",
   "execution_count": 12,
   "metadata": {},
   "outputs": [],
   "source": [
    "Nevents,_ = np.histogram(t,time_bins)\n",
    "# Nevents"
   ]
  },
  {
   "cell_type": "code",
   "execution_count": 13,
   "metadata": {},
   "outputs": [
    {
     "data": {
      "text/plain": [
       "(0.1288921288921289, 0.12951696523980102, 2.8030132463880646)"
      ]
     },
     "execution_count": 13,
     "metadata": {},
     "output_type": "execute_result"
    }
   ],
   "source": [
    "E = np.mean(Nevents)\n",
    "V = np.var(Nevents)\n",
    "Sk = sp.stats.skew(Nevents)\n",
    "E,V,Sk"
   ]
  },
  {
   "cell_type": "markdown",
   "metadata": {},
   "source": [
    "# Convert from E,V,Sk to s,d,t\n",
    "$$E = s $$\n",
    "$$V = d + s$$\n",
    "$$Sk = t + 3d + s$$\n",
    "\n",
    "so \n",
    "$$d = V -E$$\n",
    "$$t = Sk - 3d - s = Sk - 3V + 2E$$"
   ]
  },
  {
   "cell_type": "code",
   "execution_count": 22,
   "metadata": {},
   "outputs": [
    {
     "name": "stdout",
     "output_type": "stream",
     "text": [
      "rates for singles,doubles,triples in Hz\n",
      "(128.89212889212888, 0.6248363476721308, 2672.2466084529196)\n"
     ]
    }
   ],
   "source": [
    "lambda_Hz = window * 1e3 # in [sec]\n",
    "\n",
    "singles = E*lambda_Hz\n",
    "doubles = (V-E)*lambda_Hz\n",
    "triples = (Sk - 3*V + 2*E)*lambda_Hz\n",
    "\n",
    "# s_Hz\n",
    "print('rates for singles,doubles,triples in Hz')\n",
    "print(singles,doubles,triples)"
   ]
  },
  {
   "cell_type": "code",
   "execution_count": null,
   "metadata": {},
   "outputs": [],
   "source": []
  }
 ],
 "metadata": {
  "kernelspec": {
   "display_name": "Python 2",
   "language": "python",
   "name": "python2"
  },
  "language_info": {
   "codemirror_mode": {
    "name": "ipython",
    "version": 2
   },
   "file_extension": ".py",
   "mimetype": "text/x-python",
   "name": "python",
   "nbconvert_exporter": "python",
   "pygments_lexer": "ipython2",
   "version": "2.7.17"
  }
 },
 "nbformat": 4,
 "nbformat_minor": 2
}

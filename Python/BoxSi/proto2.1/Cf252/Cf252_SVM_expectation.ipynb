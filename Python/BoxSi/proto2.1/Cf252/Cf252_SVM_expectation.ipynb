{
 "cells": [
  {
   "cell_type": "markdown",
   "metadata": {},
   "source": [
    "# expectation for $^{252}$Cf moments\n",
    "Mar-22,2021\n"
   ]
  },
  {
   "cell_type": "code",
   "execution_count": 7,
   "metadata": {},
   "outputs": [],
   "source": [
    "import sys; \n",
    "sys.path.insert(0, '/Users/erezcohen/Desktop/PETsys/Software/PETsysAnalysis/Python'); \n",
    "from PETsys_analysis_tools import *;\n",
    "sys.path.insert(0, '/Users/erezcohen/Desktop/PETsys/Software/PETsysAnalysis/Python/BoxSi'); \n",
    "from proto21_tools import *;\n",
    "%config InlineBackend.figure_format = 'retina'"
   ]
  },
  {
   "cell_type": "code",
   "execution_count": 8,
   "metadata": {},
   "outputs": [],
   "source": [
    "ps = 1e-9; ns = 1e-6; us = 1e-3; ms = 1; sec = 1e3;\n",
    "\n"
   ]
  },
  {
   "cell_type": "markdown",
   "metadata": {},
   "source": [
    "### measurement duration"
   ]
  },
  {
   "cell_type": "code",
   "execution_count": 17,
   "metadata": {},
   "outputs": [],
   "source": [
    "dT_sec = 1000*sec"
   ]
  },
  {
   "cell_type": "markdown",
   "metadata": {},
   "source": [
    "### SVM prediction\n",
    "\n",
    "with vanishing cross-talk probability,\n",
    "$$\n",
    "\\begin{eqnarray} \n",
    "\t\tsingles & = & S D_{1} P_{d}\\\\\n",
    "\t\tdoubles & = & S D_{2} P_{d}^{2} \\Lambda_{d}  / T \\nonumber\\\\\n",
    "\t\ttriples  & = & S D_{3} P_{d}^{3} \\Lambda_{t}  / T \\nonumber\n",
    "\t\\end{eqnarray}\n",
    "$$\n",
    "\n",
    "where \n",
    "\t$\\Lambda_{d} = \\frac{e^{-\\lambda T}-1+\\lambda T}{\\lambda}$,\n",
    "\t$\\Lambda_{t}=\\frac{4e^{-\\lambda T}-e^{-2\\lambda T}-3+2\\lambda T}{\\lambda}$,\n",
    "\n",
    "and \n",
    "\t$D_{1}=M_{L}(U(D^{sf}_{1}-1)+1)$,\n",
    "\t$D_{2}=\\left(U D^{sf}_{2} + m \\left(U\\left(D^{sf}_{1}-1\\right) + 1\\right)  D^{if}_{2} \\right)$,\n",
    "\n",
    "For $^{252}$Cf, $M_L = \\bar{\\alpha} = 1$\n",
    "so\n",
    "\n",
    "$$\n",
    "\\begin{eqnarray} \n",
    "\t\tsingles & = & F M_{L} P_{d} D^{sf}_{1} \\bar{\\alpha} = F P_{d} D^{sf}_{1} \\\\\n",
    "\t\tdoubles & = & \\frac{FM_{L}^{2}P_{d}^{2}}{2}  \\left( D^{sf}_{2} + m D^{sf}_{1} \\bar{\\alpha} D^{if}_{2} \\right) \\frac{2\\Lambda_{d}}{T}\n",
    "        = F P_{d}^{2} D^{sf}_{2} \\frac{\\Lambda_{d}}{T} \\nonumber\\\\\n",
    "\t\ttriples  & = & F P_{d}^{3} D^{sf}_{3} \\frac{\\Lambda_{t}}{T} \\nonumber\n",
    "\t\\end{eqnarray}\n",
    "$$\n"
   ]
  },
  {
   "cell_type": "code",
   "execution_count": 18,
   "metadata": {},
   "outputs": [
    {
     "name": "stdout",
     "output_type": "stream",
     "text": [
      "Cf252 mass in 2021: 0.14013012408737724 ng\n",
      "Cf252 activity in 2021: 74.54922601448469 nCi\n"
     ]
    }
   ],
   "source": [
    "# Fission rate = 2.4e12 / 3.76 fissions/s/g = 6.4e5 fissions/s/µg\n",
    "# Specific activity is 532 Ci/g = 532 µCi/µg\n",
    "# So the fission rate per activity is (6.4e5 fissions/s/µg) / (532 µCi/µg) = 1203 fissions / s / µCi\n",
    "# Our source activity is 1µC(±50%) so we expect F = 1203 ± 50% fissions / sec\n",
    "# for Cf252, Ds1 = 3.75, Ds2 = 11.96, Ds3 = 31.81\n",
    "halflifetime_Cf252 = 2.645 # yr\n",
    "\n",
    "m_Cf252_1981 = 5e-6; # gram\n",
    "m_Cf252_2021 = m_Cf252_1981 / np.power(2,(2021-1981)/halflifetime_Cf252); \n",
    "print'Cf252 mass in 2021:',m_Cf252_2021*1e9,'ng'\n",
    "\n",
    "activity_Cf252_1981 = m_Cf252_1981 * 532; # sepcific activity is 532 Ci/gr\n",
    "activity_Cf252_2021 = activity_Cf252_1981 / np.power(2,(2021-1981)/halflifetime_Cf252); \n",
    "print'Cf252 activity in 2021:',activity_Cf252_2021*1e9,'nCi'"
   ]
  },
  {
   "cell_type": "markdown",
   "metadata": {},
   "source": [
    "### average neutron detection efficiency for a $^{252}$Cf neutron energy spectrum"
   ]
  },
  {
   "cell_type": "code",
   "execution_count": 19,
   "metadata": {},
   "outputs": [],
   "source": [
    "Pd = 0.0164"
   ]
  },
  {
   "cell_type": "code",
   "execution_count": 20,
   "metadata": {},
   "outputs": [
    {
     "name": "stdout",
     "output_type": "stream",
     "text": [
      "Cf252 fission rate in 2021: 89.68327941592143 fissions/sec\n",
      "lambda_dieaway: 400000.0 ms^-1\n",
      "T: 1000.0 ms\n",
      "𝛌T: 400000000.0\n",
      "𝚲d/T: 1.0\n",
      "𝚲t/T: 1.0\n",
      "expected singles rate: 5.52 ± 2.76 events/sec\n",
      "expected doubles rate: 0.29 ± 0.14 events/sec\n",
      "expected triples rate: 0.01 ± 0.01 events/sec\n"
     ]
    }
   ],
   "source": [
    "# Neutron emission rate by spontaneous fission = 2.4e12 n/s/g\n",
    "D_sf_1 = 3.75\n",
    "D_sf_2 = 11.96\n",
    "D_sf_3 = 31.81\n",
    "\n",
    "F = 2.4e12 / D_sf_1 * m_Cf252_2021\n",
    "print'Cf252 fission rate in 2021:',F,'fissions/sec'\n",
    "\n",
    "\n",
    "tau_dieaway_ms = 2.5*ns # 2.5 ns\n",
    "lambda_dieaway_ms = 1./tau_dieaway_ms;\n",
    "T_ms = dT_sec*ms/sec;\n",
    "lT = lambda_dieaway_ms * T_ms\n",
    "\n",
    "\n",
    "Lambda_d_over_T = (np.exp(-lT)-1+lT)/lT\n",
    "Lambda_t_over_T = (4*np.exp(-lT) + np.exp(-2*lT) -3 + 2*lT)/(2*lT)\n",
    "\n",
    "\n",
    "print 'lambda_dieaway:',lambda_dieaway_ms,'ms^-1'\n",
    "print 'T:',T_ms,'ms'\n",
    "print '𝛌T:',lT\n",
    "print '𝚲d/T: %.1f'%Lambda_d_over_T\n",
    "print '𝚲t/T: %.1f'%Lambda_t_over_T\n",
    "\n",
    "\n",
    "S_expected = F * Pd * D_sf_1\n",
    "S_expected_err = S_expected / 2\n",
    "print 'expected singles rate: %.2f ± %.2f events/sec'%(S_expected,S_expected_err)\n",
    "\n",
    "D_expected = F * (Pd*Pd) * D_sf_2 * Lambda_d_over_T\n",
    "D_expected_err = D_expected / 2\n",
    "print 'expected doubles rate: %.2f ± %.2f events/sec'%(D_expected,D_expected_err)\n",
    "\n",
    "T_expected = F * (Pd*Pd*Pd) * D_sf_3 * Lambda_t_over_T\n",
    "T_expected_err = T_expected / 2\n",
    "print 'expected triples rate: %.2f ± %.2f events/sec'%(T_expected,T_expected_err)\n",
    "\n"
   ]
  },
  {
   "cell_type": "code",
   "execution_count": 21,
   "metadata": {},
   "outputs": [
    {
     "name": "stdout",
     "output_type": "stream",
     "text": [
      "expectation using the SVM method:\n",
      "s,d,t: 5.5,0.29,0.013 Hz ± 50%\n"
     ]
    }
   ],
   "source": [
    "print 'expectation using the SVM method:'\n",
    "print 's,d,t: %.1f,%.2f,%.3f Hz'%(S_expected,D_expected,T_expected),'± 50%'"
   ]
  },
  {
   "cell_type": "code",
   "execution_count": null,
   "metadata": {},
   "outputs": [],
   "source": []
  },
  {
   "cell_type": "code",
   "execution_count": null,
   "metadata": {},
   "outputs": [],
   "source": []
  }
 ],
 "metadata": {
  "kernelspec": {
   "display_name": "Python 2",
   "language": "python",
   "name": "python2"
  },
  "language_info": {
   "codemirror_mode": {
    "name": "ipython",
    "version": 2
   },
   "file_extension": ".py",
   "mimetype": "text/x-python",
   "name": "python",
   "nbconvert_exporter": "python",
   "pygments_lexer": "ipython2",
   "version": "2.7.17"
  }
 },
 "nbformat": 4,
 "nbformat_minor": 2
}

{
 "cells": [
  {
   "cell_type": "markdown",
   "metadata": {},
   "source": [
    "# extraction of the s,d,t rates from quasi-fission measurement of $^{22}$Na\n",
    "$^{22}$Na source of about 10 $\\mu$Ci activity\n",
    "\n",
    "Mar-8,2021\n",
    "\n",
    "events collected using \n",
    "/Users/erezcohen/Desktop/PETsys/Software/PETsysAnalysis/CPP/BoxSi_proto2.1_event_collector"
   ]
  },
  {
   "cell_type": "code",
   "execution_count": 1,
   "metadata": {},
   "outputs": [
    {
     "name": "stderr",
     "output_type": "stream",
     "text": [
      "/Users/erezcohen/Desktop/PETsys/Software/PETsysAnalysis/Python/BoxSi/proto21_tools.py:10: SyntaxWarning: import * only allowed at module level\n",
      "  def process_SiPMgroups_to_events(groups, NSiPM_min=3, dT=100, fdebug=0):#{\n"
     ]
    }
   ],
   "source": [
    "import sys; \n",
    "sys.path.insert(0, '/Users/erezcohen/Desktop/PETsys/Software/PETsysAnalysis/Python'); \n",
    "from PETsys_analysis_tools import *;\n",
    "sys.path.insert(0, '/Users/erezcohen/Desktop/PETsys/Software/PETsysAnalysis/Python/BoxSi'); \n",
    "from proto21_tools import *;\n",
    "%config InlineBackend.figure_format = 'retina'\n",
    "import scipy as sp"
   ]
  },
  {
   "cell_type": "code",
   "execution_count": 5,
   "metadata": {},
   "outputs": [],
   "source": [
    "data_path = '/Users/erezcohen/Desktop/data/PETsys/BoxSi_proto2.1/GroupAnalyzer/'"
   ]
  },
  {
   "cell_type": "markdown",
   "metadata": {},
   "source": [
    "## (1) load data"
   ]
  },
  {
   "cell_type": "code",
   "execution_count": 6,
   "metadata": {},
   "outputs": [],
   "source": [
    "dT = 100; # sec"
   ]
  },
  {
   "cell_type": "code",
   "execution_count": 7,
   "metadata": {},
   "outputs": [
    {
     "name": "stdout",
     "output_type": "stream",
     "text": [
      "137480 events\n",
      "10.0% events of  of det. 12\n",
      "10.0% events of  of det. 3\n",
      "47.4% events of  of det. 6\n",
      "32.6% events of  of det. 9\n",
      "0.0% events of  of det. 0\n"
     ]
    }
   ],
   "source": [
    "events = pd.read_csv(data_path + 'Na22_10uC_%d_sec_events.csv'%dT,)\n",
    "KETEK_events = events[(events['detector']==3) | (events['detector']==12)]\n",
    "SensL_events = events[(events['detector']==6) | (events['detector']==9)]\n",
    "# statistics\n",
    "print('%d events'%len(events))\n",
    "for detector in [12,3,6,9,0]:\n",
    "    print ('%.1f'%(float(100.*len(events[events.detector==detector]))/len(events))\n",
    "           +'%'+' events of  of det. %d'%detector)"
   ]
  },
  {
   "cell_type": "markdown",
   "metadata": {},
   "source": [
    "## (2) subdivide pulse train to time intervals of 20 ns"
   ]
  },
  {
   "cell_type": "code",
   "execution_count": 8,
   "metadata": {},
   "outputs": [
    {
     "data": {
      "text/plain": [
       "100880.394678"
      ]
     },
     "execution_count": 8,
     "metadata": {},
     "output_type": "execute_result"
    }
   ],
   "source": [
    "t = np.array(events['time[ms]'])\n",
    "np.max(t)"
   ]
  },
  {
   "cell_type": "code",
   "execution_count": 9,
   "metadata": {},
   "outputs": [
    {
     "name": "stdout",
     "output_type": "stream",
     "text": [
      "5000000000 time bins:  0.0  ms, 2e-05  ms, 4e-05  ms...\n"
     ]
    }
   ],
   "source": [
    "window = 20.e-3 # 20 ns\n",
    "# window = 1.e3 # 1 sec \n",
    "# window = 1. # 1 ms sec \n",
    "time_bins = np.arange(0,dT*1e3,window)\n",
    "print len(time_bins),'time bins: ',time_bins[0],' ms,',time_bins[1],' ms,',time_bins[2],' ms...'"
   ]
  },
  {
   "cell_type": "code",
   "execution_count": null,
   "metadata": {},
   "outputs": [],
   "source": [
    "Nevents,_ = np.histogram(t,time_bins)\n",
    "# Nevents"
   ]
  },
  {
   "cell_type": "code",
   "execution_count": null,
   "metadata": {},
   "outputs": [],
   "source": [
    "E = np.mean(Nevents)\n",
    "V = np.var(Nevents)\n",
    "Sk = sp.stats.skew(Nevents)\n",
    "E,V,Sk"
   ]
  },
  {
   "cell_type": "code",
   "execution_count": null,
   "metadata": {},
   "outputs": [],
   "source": []
  }
 ],
 "metadata": {
  "kernelspec": {
   "display_name": "Python 2",
   "language": "python",
   "name": "python2"
  },
  "language_info": {
   "codemirror_mode": {
    "name": "ipython",
    "version": 2
   },
   "file_extension": ".py",
   "mimetype": "text/x-python",
   "name": "python",
   "nbconvert_exporter": "python",
   "pygments_lexer": "ipython2",
   "version": "2.7.17"
  }
 },
 "nbformat": 4,
 "nbformat_minor": 2
}

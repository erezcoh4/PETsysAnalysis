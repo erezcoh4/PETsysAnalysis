{
 "cells": [
  {
   "cell_type": "markdown",
   "id": "24895b8a-5ed5-462e-adf5-9284550fa3d7",
   "metadata": {},
   "source": [
    "# Extract $^{252}$Cf source activity from (s,d,t) rates\n",
    "\n",
    "Jan-2, 2022"
   ]
  },
  {
   "cell_type": "markdown",
   "id": "71842024-7ddd-4ce0-966c-62cf8d12ae43",
   "metadata": {},
   "source": [
    "## imports and defintions"
   ]
  },
  {
   "cell_type": "code",
   "execution_count": 2,
   "id": "a1dc6d2a-d63a-4ae9-9182-515e9ec62099",
   "metadata": {},
   "outputs": [],
   "source": [
    "import numpy as np, pandas as pd, matplotlib.pyplot as plt, matplotlib as mpl\n",
    "import sys; sys.path.insert(0, '/Users/erezcohen/Desktop/Software/mySoftware/Python/'); \n",
    "import sys; sys.path.insert(0, '/Users/erezcohen/Desktop/Software/TOFPET2/PETsysAnalysis/Python/'); \n",
    "from my_tools               import *; \n",
    "from plot_tools             import *;\n",
    "from my_data_analysis_tools import *;\n",
    "from PETsys_analysis_tools  import *;\n",
    "\n",
    "%config InlineBackend.figure_format = 'retina'\n",
    "plt.rcParams['mathtext.fontset'] = 'stix'\n",
    "plt.rcParams['font.family'] = 'STIXGeneral'"
   ]
  },
  {
   "cell_type": "markdown",
   "id": "3f2afdd8-01ce-4d6a-a5e5-e2b46b75891e",
   "metadata": {},
   "source": [
    "## Activity from (s,d,t)\n",
    "use a function compiled by Yuval on Jan-2, 2022"
   ]
  },
  {
   "cell_type": "code",
   "execution_count": 11,
   "id": "35dac61f-352e-4aaa-89f9-1c1d655abca0",
   "metadata": {},
   "outputs": [],
   "source": [
    "def estimate_252Cf_activitiy_from_sdt(sdt, delta_sdt,\n",
    "                                      fit_res      = [293.98351745,  10.69035434], \n",
    "                                      sdt_sim      = [1.480901e+03, 1.321711e+02, 6.183223e+00],\n",
    "                                      delta_sdt_sim= [7.449522e+00,2.225531e+00,4.813632e-01]\n",
    "                                      # Yuval' results:\n",
    "                                      # sdt_sim      = [1.480901e+03, 1.321711e+02, 6.183223e+00],\n",
    "                                      # delta_sdt_sim= [7.449522e+00,2.225531e+00,4.813632e-01]\n",
    "                                     ):\n",
    "    \"\"\"\n",
    "    Estimates the activity in muCuire based on the simulation. \n",
    "    Returns the estimated activity based on the singles rates.\n",
    "    and assigns a probability value for the S/D and S/T ratio vs. the simulation results for 5 micro Curie.\n",
    "\n",
    "    \n",
    "    \n",
    "    input\n",
    "    ------\n",
    "    s, d, t      rates in [Hz]\n",
    "    \n",
    "    return\n",
    "    ---------\n",
    "    activity     in [uCi]\n",
    "\n",
    "\n",
    "    \"\"\"\n",
    "    from scipy.stats import chi2\n",
    "\n",
    "    \n",
    "    s,d,t = sdt[0],sdt[1],sdt[2]\n",
    "    ds,dd,dt = delta_sdt[0],delta_sdt[1],delta_sdt[2]\n",
    "    \n",
    "    s_sim,d_sim,t_sim = sdt_sim[0],sdt_sim[1],sdt_sim[2]\n",
    "    ds_sim , dd_sim, dt_sim = delta_sdt_sim[0],delta_sdt_sim[1],delta_sdt_sim[2]\n",
    "    \n",
    "    # (A) estimate activity form singles-rate\n",
    "    est_activity = (s- fit_res[1])/fit_res[0]\n",
    "    \n",
    "    d_est,d_est_err = d_sim/s_sim*s, dd_sim/s_sim*s #Assumes singles uncertenity is much lower then doubles, assumes lineraity as well\n",
    "    t_est, t_est_err = t_sim/s_sim*s, dt_sim/s_sim*s #Assumes singles uncertenity is much lower then triples, assumes lineraity as well\n",
    "    \n",
    "    \n",
    "    \n",
    "    chisq = np.abs(d_est-d)/np.sqrt(d_est_err**2+dd**2)+np.abs(t_est-t)/np.sqrt(t_est_err**2+dt**2)\n",
    "    P_prob = 1-chi2.cdf(chisq,2)\n",
    "    print (f'P prob: {P_prob}')\n",
    "    return est_activity, P_prob    "
   ]
  },
  {
   "cell_type": "code",
   "execution_count": 12,
   "id": "e24c3b25-ab16-42be-82b6-356273287ddc",
   "metadata": {},
   "outputs": [
    {
     "name": "stdout",
     "output_type": "stream",
     "text": [
      "P prob: 0.00044801020432450045\n"
     ]
    },
    {
     "data": {
      "text/plain": [
       "(4.923097928121615, 0.00044801020432450045)"
      ]
     },
     "execution_count": 12,
     "metadata": {},
     "output_type": "execute_result"
    }
   ],
   "source": [
    "s = 1458. # Hz\n",
    "d = 50.   # Hz\n",
    "t = 1.    # Hz\n",
    "A = estimate_252Cf_activitiy_from_sdt( [s, d, t] , [np.sqrt(s), np.sqrt(d), np.sqrt(t)])\n",
    "A"
   ]
  },
  {
   "cell_type": "code",
   "execution_count": null,
   "id": "f327e124-5c9f-42fd-b20f-8719e7ad2256",
   "metadata": {},
   "outputs": [],
   "source": []
  }
 ],
 "metadata": {
  "kernelspec": {
   "display_name": "Python 3 (ipykernel)",
   "language": "python",
   "name": "python3"
  },
  "language_info": {
   "codemirror_mode": {
    "name": "ipython",
    "version": 3
   },
   "file_extension": ".py",
   "mimetype": "text/x-python",
   "name": "python",
   "nbconvert_exporter": "python",
   "pygments_lexer": "ipython3",
   "version": "3.9.7"
  }
 },
 "nbformat": 4,
 "nbformat_minor": 5
}

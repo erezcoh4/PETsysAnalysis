{
 "cells": [
  {
   "cell_type": "markdown",
   "id": "4ab45f0a-e885-4f3a-9d98-ecc5fac7454c",
   "metadata": {},
   "source": [
    "## produce a simulated pulse-train from Yuval' simulations\n",
    "To be then processed by \"PETsysEventAnalyzer\" similar to the data\n",
    "in /Users/erezcohen/Desktop/Software/TOFPET2/PETsysAnalysis/CPP\n",
    "\n",
    "last edit Dec-20, 2021"
   ]
  },
  {
   "cell_type": "markdown",
   "id": "b50cc8cd-7e2f-4955-812f-0d574c3923fb",
   "metadata": {},
   "source": [
    "## definitions"
   ]
  },
  {
   "cell_type": "code",
   "execution_count": 65,
   "id": "ece4f8ed-0e51-43a6-944c-fa39613c9b27",
   "metadata": {},
   "outputs": [],
   "source": [
    "import numpy as np, pandas as pd, matplotlib.pyplot as plt, matplotlib as mpl\n",
    "import sys; sys.path.insert(0, '/Users/erezcohen/Desktop/Software/mySoftware/Python/'); \n",
    "import sys; sys.path.insert(0, '/Users/erezcohen/Desktop/Software/TOFPET2/PETsysAnalysis/Python/'); \n",
    "from my_tools               import *; \n",
    "from plot_tools             import *;\n",
    "from my_data_analysis_tools import *;\n",
    "from PETsys_analysis_tools  import *;\n",
    "\n",
    "%config InlineBackend.figure_format = 'retina'\n",
    "plt.rcParams['mathtext.fontset'] = 'stix'\n",
    "plt.rcParams['font.family'] = 'STIXGeneral'"
   ]
  },
  {
   "cell_type": "markdown",
   "id": "81753f3b-e684-4231-bb18-48ac00347d7d",
   "metadata": {},
   "source": [
    "## auxiliary functions"
   ]
  },
  {
   "cell_type": "code",
   "execution_count": 66,
   "id": "b1e40cc4-ffef-4a74-bbe3-335231b57dd7",
   "metadata": {},
   "outputs": [],
   "source": [
    "def merge_pulses(indices,times,window,energies,thresh):\n",
    "    pulses=dict()\n",
    "    times=np.array(list(map(float,times)))\n",
    "    energies=np.array(list(map(float,energies)))\n",
    "    indices=np.array(list(map(int,indices)))\n",
    "    \n",
    "    \n",
    "    for i in range(N):\n",
    "        pulses[i]=np.column_stack((times[indices==i], energies[indices==i]))\n",
    "        pulses[i]=pulses[i][pulses[i][:,0].argsort()]\n",
    "\n",
    "    \n",
    "    for key in pulses.keys():\n",
    "        temp_time=np.array([])\n",
    "        temp_energy=np.array([])\n",
    "        det_pulses=pulses[key]\n",
    "        for i in range(det_pulses.shape[0]):\n",
    "            if i==0:\n",
    "                temp_time=np.append(temp_time,det_pulses[0,0])\n",
    "                temp_energy=np.append(temp_energy,det_pulses[0,1])\n",
    "            elif (det_pulses[i,0]-temp_time[-1])>window:\n",
    "                temp_time=np.append(temp_time,det_pulses[i,0])\n",
    "                temp_energy=np.append(temp_energy,det_pulses[i,1])\n",
    "            else:\n",
    "                temp_energy[-1]+=det_pulses[i,1]\n",
    "        t_e_mat=np.column_stack((temp_time, temp_energy))\n",
    "        pulses[key]=t_e_mat[t_e_mat[:,1]>thresh]\n",
    "        \n",
    "        \"\"\"\n",
    "        print(pulses[key])\n",
    "        print(\"-----\")\n",
    "    print(\"-@@-@@-@@-@@-@@-\")\"\"\"\n",
    "    return pulses"
   ]
  },
  {
   "cell_type": "markdown",
   "id": "e29f4c98-55cf-4937-acad-c9622ed5d58c",
   "metadata": {},
   "source": [
    "## select source activity"
   ]
  },
  {
   "cell_type": "markdown",
   "id": "67cd2416-8b04-4e51-9a89-53f14edc228b",
   "metadata": {},
   "source": [
    "### units: gr, sec"
   ]
  },
  {
   "cell_type": "code",
   "execution_count": 67,
   "id": "26b58f3e-4324-47d8-ada5-fa86fb268f06",
   "metadata": {},
   "outputs": [],
   "source": [
    "sec= 1\n",
    "ms = 1.e-3\n",
    "ns = 1.e-9\n",
    "gr = 1\n",
    "mgr= 1.e-3\n",
    "ugr= 1.e-6\n",
    "ngr= 1.e-9\n",
    "N  = 4 # number of detectors in the BoxSi prototype"
   ]
  },
  {
   "cell_type": "code",
   "execution_count": 69,
   "id": "c62b2815-6dfd-47d6-80a8-0e0ae6982fc1",
   "metadata": {},
   "outputs": [
    {
     "name": "stdout",
     "output_type": "stream",
     "text": [
      "decay rate is 0.17945 MHz\n"
     ]
    }
   ],
   "source": [
    "Edep_th_gamma    = 0.4 # energy deposition threshold in MeVee\n",
    "# for 0.4 MeVee, electrons light output is 3e-1. \n",
    "# proton light output is 3e-1 for 1.6 MeV energy deposity\n",
    "# see Verbinsky et al., NIM (1968) or Cecconello, Jour. Fus. Ener. 38 (2019)\n",
    "Edep_th_neutron  = 1.6\n",
    "energy_threshold = [Edep_th_gamma,Edep_th_neutron] #Energy Threshold for Gamma detection and for Neutron Detection in MeV\n",
    "\n",
    "# Since the data has a coincidence window defined, \n",
    "# the code that analyses the simulation merges each pair of pulses that the separtion in time between them is smaller than this value\n",
    "merge_window     = 2.*ns # coincidence time window in [ns]. \n",
    "\n",
    "# Cf252 activity to mass\n",
    "# [https://www.frontier-cf252.com/californium-faqs/]\n",
    "# 1 µg = 2.31e6 neutrons/second (n/s)\n",
    "# 1 µg = 0.5mCi\n",
    "# 1 µg = 0.02 GBq\n",
    "# source event rate\n",
    "Cf_activity_uCi  = 4.85\n",
    "Cf252_uCi_to_gr  = 1e-3 * 1. * ugr/0.5; # 1 µg = 0.5mCi\n",
    "Cf_mass_gr       = Cf_activity_uCi * Cf252_uCi_to_gr;\n",
    "uCi_to_Bqrl      = 37.e3; # 1 uCi = 37 kBq\n",
    "decay_rate_Hz    = Cf_activity_uCi * uCi_to_Bqrl; # 19.85e12*Cf_mass_gr       # decay rate - decays per sec\n",
    "fisssion_rate_Hz = (3.092/100)*decay_rate_Hz # rate of fission events per second\n",
    "print('decay rate is',decay_rate_Hz/1e6,'MHz')"
   ]
  },
  {
   "cell_type": "markdown",
   "id": "6f88de1c-89ce-450b-a613-5b2971db226b",
   "metadata": {
    "tags": []
   },
   "source": [
    "## produce pulse train\n",
    "event files (like e.g. Cf252_10_sec_events.csv) [in /Users/erezcohen/Desktop/data/PETsys/BoxSi_proto2.2/vth_1PE/Cf252_data/]\n",
    "\n",
    "Record the time in [ms], and include the following structure:\n",
    "\n",
    "eventID,N(SiPMs),time[ms],Qtot[a.u.],detector,channels\n",
    "\n",
    "0,51,894.553879236,32.796025,12,[555;548;...;]"
   ]
  },
  {
   "cell_type": "code",
   "execution_count": 70,
   "id": "26ebfdb2-bbaa-42cb-b4c7-28a12aa63058",
   "metadata": {},
   "outputs": [],
   "source": [
    "in_data_path = \"/Users/erezcohen/Desktop/Software/TOFPET2/PETsysAnalysis/Python/BoxSi/proto2.2/Geant4Simulations/YuvalSimulationResults/my_simulations/\"\n",
    "out_data_path = \"/Users/erezcohen/Desktop/data/PETsys/BoxSi_proto2.2/Geant4Sims/YuvalSimulations/\""
   ]
  },
  {
   "cell_type": "code",
   "execution_count": 71,
   "id": "8550f614-1857-4015-b5c8-cbf1ae319a6e",
   "metadata": {},
   "outputs": [
    {
     "name": "stdout",
     "output_type": "stream",
     "text": [
      "0\n",
      "10000\n",
      "20000\n",
      "30000\n",
      "40000\n",
      "50000\n",
      "60000\n",
      "70000\n",
      "80000\n",
      "90000\n",
      "100000\n",
      "done.\n"
     ]
    }
   ],
   "source": [
    "c_names=[\"Time Gamma\",\"Energy Gamma\", \"Id Gamma\",\"Time Neutron\",\"Energy Neutron\",\"Id Neutron\"]\n",
    "df = pd.read_csv(in_data_path+'rossi_nt_rossi.csv',sep=',',   header=9, names=c_names)\n",
    "\n",
    "t_global=0;\n",
    "particles_names=[\"Gamma\",\"Neutron\"]\n",
    "det_id=[]\n",
    "final_pulses_times=np.array([])\n",
    "final_pulses_energy=np.array([])\n",
    "final_pulses_id=np.array([])\n",
    "final_pulses_isN=np.array([])\n",
    "final_pulses_real_times=np.array([])\n",
    "eff = 21668/1000000 # efficiency is used for time-ordering, as Geant4 counts only \"detected events\" and we count here \"decay events\"\n",
    "\n",
    "for i in range(df.shape[0]):\n",
    "    if (i%10000==0):\n",
    "        print(i)\n",
    "    while np.random.rand(1)[0]>eff:\n",
    "        t_global+=np.random.exponential(1/decay_rate_Hz)\n",
    "    t_global+=np.random.exponential(1/decay_rate_Hz)\n",
    "    \n",
    "    for particle_i in range(0,2):\n",
    "        particle_name=particles_names[particle_i]\n",
    "        row=df.iloc[i]\n",
    "        time=row[\"Time \"+particle_name]\n",
    "        if isinstance(time,str):\n",
    "            energy=row[\"Energy \"+particle_name].split(\";\")\n",
    "            det_index=row[\"Id \"+particle_name].split(\";\")\n",
    "            time=row[\"Time \"+particle_name].split(\";\")\n",
    "            final_pulses=merge_pulses(det_index,time,merge_window,energy,energy_threshold[particle_i])\n",
    "            \n",
    "            for key, item in final_pulses.items():\n",
    "                if (item.size>0):\n",
    "                    time_row=item[:,0]+t_global\n",
    "                    final_pulses_times=np.concatenate([final_pulses_times,time_row])\n",
    "                    final_pulses_real_times=np.concatenate([final_pulses_real_times,item[:,0]])\n",
    "                    final_pulses_energy=np.concatenate([final_pulses_energy,item[:,1]])\n",
    "                    final_pulses_id=np.concatenate([final_pulses_id,key*np.ones(time_row.size)])\n",
    "                    final_pulses_isN=np.concatenate([final_pulses_isN,(particle_name==\"Neutron\")*np.ones(time_row.size)])\n",
    "print('done.')"
   ]
  },
  {
   "cell_type": "code",
   "execution_count": 72,
   "id": "811d0add-71c3-4557-b4bd-2fb524e037ef",
   "metadata": {},
   "outputs": [
    {
     "data": {
      "text/plain": [
       "array([3.49022569e-01, 5.08601066e-01, 1.26107481e+00, ...,\n",
       "       2.75914124e+04, 2.75920108e+04, 2.75932009e+04])"
      ]
     },
     "execution_count": 72,
     "metadata": {},
     "output_type": "execute_result"
    }
   ],
   "source": [
    "final_pulses_times_sec  = final_pulses_times\n",
    "final_pulses_times_ns   = final_pulses_times_sec  * 1e9 #to ns\n",
    "final_pulses_times_ms   = final_pulses_times_sec  * 1e3 #to ns\n",
    "final_pulses_real_times = final_pulses_real_times * 1e9 \n",
    "final_pulses_times_ms"
   ]
  },
  {
   "cell_type": "code",
   "execution_count": 73,
   "id": "8704bb44-092c-40af-b64e-b801ec81b458",
   "metadata": {},
   "outputs": [
    {
     "name": "stdout",
     "output_type": "stream",
     "text": [
      "The simulated measurement of a 4.8 uCi 252Cf source took 27.6 Seconds\n"
     ]
    }
   ],
   "source": [
    "print('The simulated measurement of a %.1f uCi 252Cf source took %.1f'%(Cf_activity_uCi,t_global),'Seconds')"
   ]
  },
  {
   "cell_type": "markdown",
   "id": "bfe66543-5147-412e-b2e7-93b536712dca",
   "metadata": {},
   "source": [
    "### how to convert simulated detector ID to BoxSi detector ID"
   ]
  },
  {
   "cell_type": "code",
   "execution_count": 74,
   "id": "cdcb344b-e3fb-43a6-b171-35d494b279be",
   "metadata": {},
   "outputs": [],
   "source": [
    "def sim_det_id_to_detector(pulse_id):\n",
    "    detector = (pulse_id+1) * 3\n",
    "    return detector"
   ]
  },
  {
   "cell_type": "markdown",
   "id": "6d629b48-e408-48fd-b66e-66d6190eed80",
   "metadata": {},
   "source": [
    "## Sort results in a Pandas dataframe a csv file"
   ]
  },
  {
   "cell_type": "code",
   "execution_count": 75,
   "id": "ddf0f44e-967a-4350-a379-a97f5e61ec54",
   "metadata": {},
   "outputs": [
    {
     "data": {
      "text/html": [
       "<div>\n",
       "<style scoped>\n",
       "    .dataframe tbody tr th:only-of-type {\n",
       "        vertical-align: middle;\n",
       "    }\n",
       "\n",
       "    .dataframe tbody tr th {\n",
       "        vertical-align: top;\n",
       "    }\n",
       "\n",
       "    .dataframe thead th {\n",
       "        text-align: right;\n",
       "    }\n",
       "</style>\n",
       "<table border=\"1\" class=\"dataframe\">\n",
       "  <thead>\n",
       "    <tr style=\"text-align: right;\">\n",
       "      <th></th>\n",
       "      <th>eventID</th>\n",
       "      <th>N(SiPMs)</th>\n",
       "      <th>time[ms]</th>\n",
       "      <th>Qtot[a.u.]</th>\n",
       "      <th>detector</th>\n",
       "      <th>channel</th>\n",
       "    </tr>\n",
       "  </thead>\n",
       "  <tbody>\n",
       "    <tr>\n",
       "      <th>69</th>\n",
       "      <td>69</td>\n",
       "      <td>0</td>\n",
       "      <td>48364.000181</td>\n",
       "      <td>0.429046</td>\n",
       "      <td>3</td>\n",
       "      <td>0</td>\n",
       "    </tr>\n",
       "    <tr>\n",
       "      <th>70</th>\n",
       "      <td>70</td>\n",
       "      <td>0</td>\n",
       "      <td>48762.919747</td>\n",
       "      <td>0.454656</td>\n",
       "      <td>3</td>\n",
       "      <td>0</td>\n",
       "    </tr>\n",
       "    <tr>\n",
       "      <th>71</th>\n",
       "      <td>71</td>\n",
       "      <td>0</td>\n",
       "      <td>48762.919796</td>\n",
       "      <td>0.661901</td>\n",
       "      <td>12</td>\n",
       "      <td>0</td>\n",
       "    </tr>\n",
       "  </tbody>\n",
       "</table>\n",
       "</div>"
      ],
      "text/plain": [
       "    eventID  N(SiPMs)      time[ms]  Qtot[a.u.]  detector  channel\n",
       "69       69         0  48364.000181    0.429046         3        0\n",
       "70       70         0  48762.919747    0.454656         3        0\n",
       "71       71         0  48762.919796    0.661901        12        0"
      ]
     },
     "execution_count": 75,
     "metadata": {},
     "output_type": "execute_result"
    }
   ],
   "source": [
    "# eventID,N(SiPMs),time[ms],Qtot[a.u.],detector,channels\n",
    "titles=[\"eventID\",\"N(SiPMs)\",\"time[ms]\", \"Qtot[a.u.]\",\"detector\",\"channel\"]\n",
    "df_final=pd.DataFrame(np.column_stack((range(len(final_pulses_times)),\n",
    "                                       np.zeros(len(final_pulses_times)),\n",
    "                                       final_pulses_times/ns*ms,\n",
    "                                       final_pulses_energy,\n",
    "                                       sim_det_id_to_detector(final_pulses_id),\n",
    "                                       np.zeros(len(final_pulses_times)))),\n",
    "                      columns=titles, index=(range(len(final_pulses_times))))\n",
    "df_final=df_final.sort_values(by=\"time[ms]\")\n",
    "df_final = df_final.astype({\"eventID\": int, \"N(SiPMs)\": int, \n",
    "                            \"time[ms]\": np.float64, \"Qtot[a.u.]\": np.float32,\n",
    "                            \"detector\": int, \"channel\": int})\n",
    "df_final[69:72]\n",
    "\n",
    "# original from Yuval:\n",
    "# titles=[\"Time (ns)\",\"Energy(MeV)\",\"Detector ID\", \"IsNeutron\"]"
   ]
  },
  {
   "cell_type": "markdown",
   "id": "da2fcc6d-c720-49e1-98f0-48c3f0cbbaa5",
   "metadata": {
    "tags": []
   },
   "source": [
    "## and export to a CSV file"
   ]
  },
  {
   "cell_type": "code",
   "execution_count": 76,
   "id": "8fedef61-5841-4473-8903-cbf74ab4b882",
   "metadata": {},
   "outputs": [
    {
     "name": "stdout",
     "output_type": "stream",
     "text": [
      "done.\n",
      "saved /Users/erezcohen/Desktop/data/PETsys/BoxSi_proto2.2/Geant4Sims/YuvalSimulations/G4sim_Cf252_4.8uCi_28_sec_events.csv\n"
     ]
    }
   ],
   "source": [
    "df_final.to_csv(out_data_path + \"G4sim_Cf252_%.1fuCi_%.0f_sec_events.csv\"%(Cf_activity_uCi,t_global),index=False)\n",
    "print('done.')\n",
    "print('saved',out_data_path + \"G4sim_Cf252_%.1fuCi_%.0f_sec_events.csv\"%(Cf_activity_uCi,t_global))"
   ]
  },
  {
   "cell_type": "code",
   "execution_count": null,
   "id": "605ac05f-fa0f-4223-902b-79206929f49c",
   "metadata": {},
   "outputs": [],
   "source": []
  },
  {
   "cell_type": "code",
   "execution_count": null,
   "id": "c6c2a21c-89d0-4186-a100-7de59fdfec4d",
   "metadata": {},
   "outputs": [],
   "source": []
  },
  {
   "cell_type": "code",
   "execution_count": null,
   "id": "f979bbbd-c830-4b3a-9a04-275333396fcb",
   "metadata": {},
   "outputs": [],
   "source": []
  },
  {
   "cell_type": "code",
   "execution_count": null,
   "id": "4ec65ce4-d9fe-47fc-8784-7bd6be76cd0e",
   "metadata": {},
   "outputs": [],
   "source": []
  }
 ],
 "metadata": {
  "kernelspec": {
   "display_name": "Python 3 (ipykernel)",
   "language": "python",
   "name": "python3"
  },
  "language_info": {
   "codemirror_mode": {
    "name": "ipython",
    "version": 3
   },
   "file_extension": ".py",
   "mimetype": "text/x-python",
   "name": "python",
   "nbconvert_exporter": "python",
   "pygments_lexer": "ipython3",
   "version": "3.9.7"
  }
 },
 "nbformat": 4,
 "nbformat_minor": 5
}

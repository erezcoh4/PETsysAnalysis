{
 "cells": [
  {
   "cell_type": "code",
   "execution_count": 1,
   "metadata": {},
   "outputs": [],
   "source": [
    "# first shot of introducing external trigger to the ASIC"
   ]
  },
  {
   "cell_type": "code",
   "execution_count": 2,
   "metadata": {},
   "outputs": [],
   "source": [
    "import sys; sys.path.insert(0, '/Users/erezcohen/Desktop/PETsys/Software/analysis/Python'); \n",
    "from PETsys_analysis_tools import *;\n",
    "main_figures_path = '/Users/erezcohen/Desktop/PETsys/write-ups/DuSci/Figures/'\n",
    "%config InlineBackend.figure_format = 'retina'"
   ]
  },
  {
   "cell_type": "code",
   "execution_count": 24,
   "metadata": {},
   "outputs": [],
   "source": [
    "NoExtTrig = pd.read_csv('/Users/erezcohen/Desktop/data/PETsys/external_trigger/rate_1Hz/no_source_no_trigger_10sec_singles.txt',delimiter='\\t',names={'channel','time','charge'})\n",
    "WithExtTrig = pd.read_csv('/Users/erezcohen/Desktop/data/PETsys/external_trigger/rate_1Hz/no_source_with_trigger_10sec_singles.txt',delimiter='\\t',names={'channel','time','charge'})"
   ]
  },
  {
   "cell_type": "code",
   "execution_count": 25,
   "metadata": {},
   "outputs": [
    {
     "data": {
      "text/plain": [
       "0      546\n",
       "1      546\n",
       "2      917\n",
       "3      546\n",
       "4      917\n",
       "5      546\n",
       "6      917\n",
       "7      917\n",
       "8      546\n",
       "9      546\n",
       "10     917\n",
       "11     917\n",
       "12     546\n",
       "13     917\n",
       "14     546\n",
       "15     917\n",
       "16     546\n",
       "17     546\n",
       "18     917\n",
       "19     546\n",
       "20     546\n",
       "21     917\n",
       "22     917\n",
       "23     546\n",
       "24     546\n",
       "25     546\n",
       "26     546\n",
       "27     546\n",
       "28     546\n",
       "29     917\n",
       "      ... \n",
       "193    917\n",
       "194    546\n",
       "195    546\n",
       "196    546\n",
       "197    546\n",
       "198    546\n",
       "199    546\n",
       "200    546\n",
       "201    546\n",
       "202    917\n",
       "203    917\n",
       "204    546\n",
       "205    546\n",
       "206    917\n",
       "207    917\n",
       "208    546\n",
       "209    917\n",
       "210    546\n",
       "211    546\n",
       "212    917\n",
       "213    917\n",
       "214    546\n",
       "215    917\n",
       "216    917\n",
       "217    917\n",
       "218    917\n",
       "219    917\n",
       "220    546\n",
       "221    546\n",
       "222    546\n",
       "Name: time, Length: 223, dtype: int64"
      ]
     },
     "execution_count": 25,
     "metadata": {},
     "output_type": "execute_result"
    }
   ],
   "source": [
    "NoExtTrig.time\n",
    "#WithExtTrig"
   ]
  },
  {
   "cell_type": "code",
   "execution_count": null,
   "metadata": {},
   "outputs": [],
   "source": []
  }
 ],
 "metadata": {
  "kernelspec": {
   "display_name": "Python 2",
   "language": "python",
   "name": "python2"
  },
  "language_info": {
   "codemirror_mode": {
    "name": "ipython",
    "version": 2
   },
   "file_extension": ".py",
   "mimetype": "text/x-python",
   "name": "python",
   "nbconvert_exporter": "python",
   "pygments_lexer": "ipython2",
   "version": "2.7.17"
  }
 },
 "nbformat": 4,
 "nbformat_minor": 2
}

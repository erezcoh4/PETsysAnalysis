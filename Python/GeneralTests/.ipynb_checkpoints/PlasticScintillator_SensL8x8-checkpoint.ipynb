{
 "cells": [
  {
   "cell_type": "code",
   "execution_count": 2,
   "metadata": {},
   "outputs": [],
   "source": [
    "import sys; \n",
    "sys.path.insert(0, '/Users/erezcohen/Desktop/PETsys/Software/PETsysAnalysis/Python'); \n",
    "from PETsys_analysis_tools import *;\n",
    "sys.path.insert(0, '/Users/erezcohen/Desktop/PETsys/Software/PETsysAnalysis/Python/BoxSi'); \n",
    "from proto21_tools import *;\n",
    "%config InlineBackend.figure_format = 'retina'"
   ]
  },
  {
   "cell_type": "markdown",
   "metadata": {},
   "source": [
    "# Cf252 irradiation on a plastic scintillator coupled to SensL8x8\n",
    "\n",
    "Feb-25, 2021 (EOC)"
   ]
  },
  {
   "cell_type": "code",
   "execution_count": 4,
   "metadata": {},
   "outputs": [],
   "source": [
    "data_path = '/Users/erezcohen/Desktop/data/PETsys/PlasticScintillator_SensL8x8/'"
   ]
  },
  {
   "cell_type": "code",
   "execution_count": 7,
   "metadata": {},
   "outputs": [
    {
     "name": "stdout",
     "output_type": "stream",
     "text": [
      "done loading events\n"
     ]
    }
   ],
   "source": [
    "dT_cosmic = 30 # sec\n",
    "cosmic_events = pd.read_csv(data_path + 'PlasticScintillator_cosmic_vth1_20_vth2_20_30_sec_events.csv')\n",
    "dT_Cf252 = 30 # sec\n",
    "Cf252_events = pd.read_csv(data_path + 'PlasticScintillator_Cf252_1mm_vth1_20_vth2_20_30_sec_events.csv')\n",
    "\n",
    "print('done loading events')"
   ]
  },
  {
   "cell_type": "code",
   "execution_count": 18,
   "metadata": {},
   "outputs": [
    {
     "name": "stdout",
     "output_type": "stream",
     "text": [
      "(0.9333333333333333, 'cosmic events per sec, average', 14.142857142857142, 'SiPMs')\n",
      "(183.23333333333332, 'Cf252 events per sec, average', 6.10278333636529, 'SiPMs')\n"
     ]
    }
   ],
   "source": [
    "print((float(len(cosmic_events))/dT_cosmic),'cosmic events per sec, average',np.mean(cosmic_events['N(SiPMs)']),'SiPMs')\n",
    "print((float(len(Cf252_events))/dT_cosmic),'Cf252 events per sec, average',np.mean(Cf252_events['N(SiPMs)']),'SiPMs')"
   ]
  },
  {
   "cell_type": "code",
   "execution_count": 20,
   "metadata": {},
   "outputs": [
    {
     "data": {
      "image/png": "[encoded data removed]",
      "text/plain": [
       "<Figure size 432x288 with 1 Axes>"
      ]
     },
     "metadata": {
      "image/png": {
       "height": 249,
       "width": 372
      },
      "needs_background": "light"
     },
     "output_type": "display_data"
    }
   ],
   "source": [
    "plt.hist(Cf252_events['time[ms]']);"
   ]
  },
  {
   "cell_type": "code",
   "execution_count": null,
   "metadata": {},
   "outputs": [],
   "source": []
  }
 ],
 "metadata": {
  "kernelspec": {
   "display_name": "Python 3",
   "language": "python",
   "name": "python3"
  },
  "language_info": {
   "codemirror_mode": {
    "name": "ipython",
    "version": 2
   },
   "file_extension": ".py",
   "mimetype": "text/x-python",
   "name": "python",
   "nbconvert_exporter": "python",
   "pygments_lexer": "ipython2",
   "version": "2.7.17"
  }
 },
 "nbformat": 4,
 "nbformat_minor": 2
}
